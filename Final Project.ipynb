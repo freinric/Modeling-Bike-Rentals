{
 "cells": [
  {
   "cell_type": "code",
   "execution_count": 1,
   "id": "034645d0",
   "metadata": {},
   "outputs": [
    {
     "name": "stderr",
     "output_type": "stream",
     "text": [
      "\n",
      "Attaching package: 'dplyr'\n",
      "\n",
      "\n",
      "The following objects are masked from 'package:stats':\n",
      "\n",
      "    filter, lag\n",
      "\n",
      "\n",
      "The following objects are masked from 'package:base':\n",
      "\n",
      "    intersect, setdiff, setequal, union\n",
      "\n",
      "\n",
      "Loading required package: rbenchmark\n",
      "\n"
     ]
    }
   ],
   "source": [
    "library(ggplot2)\n",
    "library(dplyr)\n",
    "library(ISLR2)\n",
    "options(warn=-1)\n",
    "library(dvmisc)\n",
    "library(splines)"
   ]
  },
  {
   "cell_type": "code",
   "execution_count": 2,
   "id": "a4c03a6e",
   "metadata": {},
   "outputs": [
    {
     "data": {
      "text/html": [
       "<table class=\"dataframe\">\n",
       "<caption>A data.frame: 6 × 17</caption>\n",
       "<thead>\n",
       "\t<tr><th></th><th scope=col>instant</th><th scope=col>dteday</th><th scope=col>season</th><th scope=col>yr</th><th scope=col>mnth</th><th scope=col>hr</th><th scope=col>holiday</th><th scope=col>weekday</th><th scope=col>workingday</th><th scope=col>weathersit</th><th scope=col>temp</th><th scope=col>atemp</th><th scope=col>hum</th><th scope=col>windspeed</th><th scope=col>casual</th><th scope=col>registered</th><th scope=col>cnt</th></tr>\n",
       "\t<tr><th></th><th scope=col>&lt;int&gt;</th><th scope=col>&lt;date&gt;</th><th scope=col>&lt;int&gt;</th><th scope=col>&lt;int&gt;</th><th scope=col>&lt;int&gt;</th><th scope=col>&lt;int&gt;</th><th scope=col>&lt;int&gt;</th><th scope=col>&lt;int&gt;</th><th scope=col>&lt;int&gt;</th><th scope=col>&lt;int&gt;</th><th scope=col>&lt;dbl&gt;</th><th scope=col>&lt;dbl&gt;</th><th scope=col>&lt;dbl&gt;</th><th scope=col>&lt;dbl&gt;</th><th scope=col>&lt;int&gt;</th><th scope=col>&lt;int&gt;</th><th scope=col>&lt;int&gt;</th></tr>\n",
       "</thead>\n",
       "<tbody>\n",
       "\t<tr><th scope=row>1</th><td>1</td><td>2011-01-01</td><td>1</td><td>0</td><td>1</td><td>0</td><td>0</td><td>6</td><td>0</td><td>1</td><td>0.24</td><td>0.2879</td><td>0.81</td><td>0.0000</td><td>3</td><td>13</td><td>16</td></tr>\n",
       "\t<tr><th scope=row>2</th><td>2</td><td>2011-01-01</td><td>1</td><td>0</td><td>1</td><td>1</td><td>0</td><td>6</td><td>0</td><td>1</td><td>0.22</td><td>0.2727</td><td>0.80</td><td>0.0000</td><td>8</td><td>32</td><td>40</td></tr>\n",
       "\t<tr><th scope=row>3</th><td>3</td><td>2011-01-01</td><td>1</td><td>0</td><td>1</td><td>2</td><td>0</td><td>6</td><td>0</td><td>1</td><td>0.22</td><td>0.2727</td><td>0.80</td><td>0.0000</td><td>5</td><td>27</td><td>32</td></tr>\n",
       "\t<tr><th scope=row>4</th><td>4</td><td>2011-01-01</td><td>1</td><td>0</td><td>1</td><td>3</td><td>0</td><td>6</td><td>0</td><td>1</td><td>0.24</td><td>0.2879</td><td>0.75</td><td>0.0000</td><td>3</td><td>10</td><td>13</td></tr>\n",
       "\t<tr><th scope=row>5</th><td>5</td><td>2011-01-01</td><td>1</td><td>0</td><td>1</td><td>4</td><td>0</td><td>6</td><td>0</td><td>1</td><td>0.24</td><td>0.2879</td><td>0.75</td><td>0.0000</td><td>0</td><td> 1</td><td> 1</td></tr>\n",
       "\t<tr><th scope=row>6</th><td>6</td><td>2011-01-01</td><td>1</td><td>0</td><td>1</td><td>5</td><td>0</td><td>6</td><td>0</td><td>2</td><td>0.24</td><td>0.2576</td><td>0.75</td><td>0.0896</td><td>0</td><td> 1</td><td> 1</td></tr>\n",
       "</tbody>\n",
       "</table>\n"
      ],
      "text/latex": [
       "A data.frame: 6 × 17\n",
       "\\begin{tabular}{r|lllllllllllllllll}\n",
       "  & instant & dteday & season & yr & mnth & hr & holiday & weekday & workingday & weathersit & temp & atemp & hum & windspeed & casual & registered & cnt\\\\\n",
       "  & <int> & <date> & <int> & <int> & <int> & <int> & <int> & <int> & <int> & <int> & <dbl> & <dbl> & <dbl> & <dbl> & <int> & <int> & <int>\\\\\n",
       "\\hline\n",
       "\t1 & 1 & 2011-01-01 & 1 & 0 & 1 & 0 & 0 & 6 & 0 & 1 & 0.24 & 0.2879 & 0.81 & 0.0000 & 3 & 13 & 16\\\\\n",
       "\t2 & 2 & 2011-01-01 & 1 & 0 & 1 & 1 & 0 & 6 & 0 & 1 & 0.22 & 0.2727 & 0.80 & 0.0000 & 8 & 32 & 40\\\\\n",
       "\t3 & 3 & 2011-01-01 & 1 & 0 & 1 & 2 & 0 & 6 & 0 & 1 & 0.22 & 0.2727 & 0.80 & 0.0000 & 5 & 27 & 32\\\\\n",
       "\t4 & 4 & 2011-01-01 & 1 & 0 & 1 & 3 & 0 & 6 & 0 & 1 & 0.24 & 0.2879 & 0.75 & 0.0000 & 3 & 10 & 13\\\\\n",
       "\t5 & 5 & 2011-01-01 & 1 & 0 & 1 & 4 & 0 & 6 & 0 & 1 & 0.24 & 0.2879 & 0.75 & 0.0000 & 0 &  1 &  1\\\\\n",
       "\t6 & 6 & 2011-01-01 & 1 & 0 & 1 & 5 & 0 & 6 & 0 & 2 & 0.24 & 0.2576 & 0.75 & 0.0896 & 0 &  1 &  1\\\\\n",
       "\\end{tabular}\n"
      ],
      "text/markdown": [
       "\n",
       "A data.frame: 6 × 17\n",
       "\n",
       "| <!--/--> | instant &lt;int&gt; | dteday &lt;date&gt; | season &lt;int&gt; | yr &lt;int&gt; | mnth &lt;int&gt; | hr &lt;int&gt; | holiday &lt;int&gt; | weekday &lt;int&gt; | workingday &lt;int&gt; | weathersit &lt;int&gt; | temp &lt;dbl&gt; | atemp &lt;dbl&gt; | hum &lt;dbl&gt; | windspeed &lt;dbl&gt; | casual &lt;int&gt; | registered &lt;int&gt; | cnt &lt;int&gt; |\n",
       "|---|---|---|---|---|---|---|---|---|---|---|---|---|---|---|---|---|---|\n",
       "| 1 | 1 | 2011-01-01 | 1 | 0 | 1 | 0 | 0 | 6 | 0 | 1 | 0.24 | 0.2879 | 0.81 | 0.0000 | 3 | 13 | 16 |\n",
       "| 2 | 2 | 2011-01-01 | 1 | 0 | 1 | 1 | 0 | 6 | 0 | 1 | 0.22 | 0.2727 | 0.80 | 0.0000 | 8 | 32 | 40 |\n",
       "| 3 | 3 | 2011-01-01 | 1 | 0 | 1 | 2 | 0 | 6 | 0 | 1 | 0.22 | 0.2727 | 0.80 | 0.0000 | 5 | 27 | 32 |\n",
       "| 4 | 4 | 2011-01-01 | 1 | 0 | 1 | 3 | 0 | 6 | 0 | 1 | 0.24 | 0.2879 | 0.75 | 0.0000 | 3 | 10 | 13 |\n",
       "| 5 | 5 | 2011-01-01 | 1 | 0 | 1 | 4 | 0 | 6 | 0 | 1 | 0.24 | 0.2879 | 0.75 | 0.0000 | 0 |  1 |  1 |\n",
       "| 6 | 6 | 2011-01-01 | 1 | 0 | 1 | 5 | 0 | 6 | 0 | 2 | 0.24 | 0.2576 | 0.75 | 0.0896 | 0 |  1 |  1 |\n",
       "\n"
      ],
      "text/plain": [
       "  instant dteday     season yr mnth hr holiday weekday workingday weathersit\n",
       "1 1       2011-01-01 1      0  1    0  0       6       0          1         \n",
       "2 2       2011-01-01 1      0  1    1  0       6       0          1         \n",
       "3 3       2011-01-01 1      0  1    2  0       6       0          1         \n",
       "4 4       2011-01-01 1      0  1    3  0       6       0          1         \n",
       "5 5       2011-01-01 1      0  1    4  0       6       0          1         \n",
       "6 6       2011-01-01 1      0  1    5  0       6       0          2         \n",
       "  temp atemp  hum  windspeed casual registered cnt\n",
       "1 0.24 0.2879 0.81 0.0000    3      13         16 \n",
       "2 0.22 0.2727 0.80 0.0000    8      32         40 \n",
       "3 0.22 0.2727 0.80 0.0000    5      27         32 \n",
       "4 0.24 0.2879 0.75 0.0000    3      10         13 \n",
       "5 0.24 0.2879 0.75 0.0000    0       1          1 \n",
       "6 0.24 0.2576 0.75 0.0896    0       1          1 "
      ]
     },
     "metadata": {},
     "output_type": "display_data"
    }
   ],
   "source": [
    "bikedata = read.csv(\"Bike-Sharing-Dataset//hour.csv\", header = TRUE)\n",
    "bikedata$dteday = as.Date(bikedata$dteday, format = \"%Y-%m-%d\") # converting date column to appropriate data type\n",
    "attach(bikedata)\n",
    "head(bikedata)"
   ]
  },
  {
   "cell_type": "markdown",
   "id": "21c31fa9",
   "metadata": {},
   "source": [
    "# Create new data frame with rows between hours 1 and 4 for Dec, Jan, Feb to show non-constant variance across data"
   ]
  },
  {
   "cell_type": "code",
   "execution_count": 16,
   "id": "b15289fa",
   "metadata": {},
   "outputs": [
    {
     "name": "stdout",
     "output_type": "stream",
     "text": [
      "Mean (1am - 4am in Dec, Jan, Feb): 12.10479 \n",
      "Variance (1am - 4am in Dec, Jan, Feb): 284.7236 \n"
     ]
    }
   ],
   "source": [
    "temp1 <- bikedata %>%\n",
    "  filter(hr >= 1 & hr <= 4 & mnth %in% c(12, 1, 2))\n",
    "\n",
    "# Calculate mean and variance of cnt variable for new data frame\n",
    "mean_cnt <- mean(temp1$cnt)\n",
    "var_cnt <- var(temp1$cnt)\n",
    "\n",
    "# Print the results\n",
    "cat(\"Mean (1am - 4am in Dec, Jan, Feb):\", mean_cnt, \"\\n\")\n",
    "cat(\"Variance (1am - 4am in Dec, Jan, Feb):\", var_cnt, \"\\n\")"
   ]
  },
  {
   "cell_type": "markdown",
   "id": "ae577183",
   "metadata": {},
   "source": [
    "# Create new data frame with rows between hours 6-9 for Apr, May, June to show non-constant variance to show non-constant variance across data"
   ]
  },
  {
   "cell_type": "code",
   "execution_count": 8,
   "id": "b8f23545",
   "metadata": {},
   "outputs": [
    {
     "name": "stdout",
     "output_type": "stream",
     "text": [
      "Mean of cnt for hours 6-9 in Apr, May, Jun: 238.0165 \n",
      "Variance of cnt for hours 6-9 in Apr, May, Jun: 32062.56 \n"
     ]
    }
   ],
   "source": [
    "temp2 <- bikedata %>%\n",
    "  filter(hr >= 6 & hr <= 9 & mnth %in% c(4, 5, 6))\n",
    "\n",
    "# Calculate mean and variance of cnt variable for new data frame\n",
    "mean_cnt <- mean(temp2$cnt)\n",
    "var_cnt <- var(temp2$cnt)\n",
    "\n",
    "# Print the results\n",
    "cat(\"Mean of cnt for hours 6-9 in Apr, May, Jun:\", mean_cnt, \"\\n\")\n",
    "cat(\"Variance of cnt for hours 6-9 in Apr, May, Jun:\", var_cnt, \"\\n\")\n"
   ]
  },
  {
   "cell_type": "code",
   "execution_count": 12,
   "id": "4bf93236",
   "metadata": {},
   "outputs": [
    {
     "data": {
      "text/html": [
       "<table class=\"dataframe\">\n",
       "<caption>A data.frame: 12 × 4</caption>\n",
       "<thead>\n",
       "\t<tr><th scope=col>mnth</th><th scope=col>mean</th><th scope=col>var</th><th scope=col>yr</th></tr>\n",
       "\t<tr><th scope=col>&lt;int&gt;</th><th scope=col>&lt;dbl&gt;</th><th scope=col>&lt;dbl&gt;</th><th scope=col>&lt;fct&gt;</th></tr>\n",
       "</thead>\n",
       "<tbody>\n",
       "\t<tr><td> 1</td><td> 55.50727</td><td> 2363.968</td><td>2011</td></tr>\n",
       "\t<tr><td> 2</td><td> 74.29122</td><td> 4048.268</td><td>2011</td></tr>\n",
       "\t<tr><td> 3</td><td> 87.73288</td><td> 6221.974</td><td>2011</td></tr>\n",
       "\t<tr><td> 4</td><td>131.94715</td><td>15056.421</td><td>2011</td></tr>\n",
       "\t<tr><td> 5</td><td>182.55511</td><td>21431.031</td><td>2011</td></tr>\n",
       "\t<tr><td> 6</td><td>199.32222</td><td>24050.936</td><td>2011</td></tr>\n",
       "\t<tr><td> 7</td><td>189.97446</td><td>20977.026</td><td>2011</td></tr>\n",
       "\t<tr><td> 8</td><td>186.99179</td><td>23089.841</td><td>2011</td></tr>\n",
       "\t<tr><td> 9</td><td>177.70990</td><td>21731.449</td><td>2011</td></tr>\n",
       "\t<tr><td>10</td><td>166.23284</td><td>21014.775</td><td>2011</td></tr>\n",
       "\t<tr><td>11</td><td>142.09597</td><td>15313.780</td><td>2011</td></tr>\n",
       "\t<tr><td>12</td><td>117.84480</td><td>11436.880</td><td>2011</td></tr>\n",
       "</tbody>\n",
       "</table>\n"
      ],
      "text/latex": [
       "A data.frame: 12 × 4\n",
       "\\begin{tabular}{llll}\n",
       " mnth & mean & var & yr\\\\\n",
       " <int> & <dbl> & <dbl> & <fct>\\\\\n",
       "\\hline\n",
       "\t  1 &  55.50727 &  2363.968 & 2011\\\\\n",
       "\t  2 &  74.29122 &  4048.268 & 2011\\\\\n",
       "\t  3 &  87.73288 &  6221.974 & 2011\\\\\n",
       "\t  4 & 131.94715 & 15056.421 & 2011\\\\\n",
       "\t  5 & 182.55511 & 21431.031 & 2011\\\\\n",
       "\t  6 & 199.32222 & 24050.936 & 2011\\\\\n",
       "\t  7 & 189.97446 & 20977.026 & 2011\\\\\n",
       "\t  8 & 186.99179 & 23089.841 & 2011\\\\\n",
       "\t  9 & 177.70990 & 21731.449 & 2011\\\\\n",
       "\t 10 & 166.23284 & 21014.775 & 2011\\\\\n",
       "\t 11 & 142.09597 & 15313.780 & 2011\\\\\n",
       "\t 12 & 117.84480 & 11436.880 & 2011\\\\\n",
       "\\end{tabular}\n"
      ],
      "text/markdown": [
       "\n",
       "A data.frame: 12 × 4\n",
       "\n",
       "| mnth &lt;int&gt; | mean &lt;dbl&gt; | var &lt;dbl&gt; | yr &lt;fct&gt; |\n",
       "|---|---|---|---|\n",
       "|  1 |  55.50727 |  2363.968 | 2011 |\n",
       "|  2 |  74.29122 |  4048.268 | 2011 |\n",
       "|  3 |  87.73288 |  6221.974 | 2011 |\n",
       "|  4 | 131.94715 | 15056.421 | 2011 |\n",
       "|  5 | 182.55511 | 21431.031 | 2011 |\n",
       "|  6 | 199.32222 | 24050.936 | 2011 |\n",
       "|  7 | 189.97446 | 20977.026 | 2011 |\n",
       "|  8 | 186.99179 | 23089.841 | 2011 |\n",
       "|  9 | 177.70990 | 21731.449 | 2011 |\n",
       "| 10 | 166.23284 | 21014.775 | 2011 |\n",
       "| 11 | 142.09597 | 15313.780 | 2011 |\n",
       "| 12 | 117.84480 | 11436.880 | 2011 |\n",
       "\n"
      ],
      "text/plain": [
       "   mnth mean      var       yr  \n",
       "1   1    55.50727  2363.968 2011\n",
       "2   2    74.29122  4048.268 2011\n",
       "3   3    87.73288  6221.974 2011\n",
       "4   4   131.94715 15056.421 2011\n",
       "5   5   182.55511 21431.031 2011\n",
       "6   6   199.32222 24050.936 2011\n",
       "7   7   189.97446 20977.026 2011\n",
       "8   8   186.99179 23089.841 2011\n",
       "9   9   177.70990 21731.449 2011\n",
       "10 10   166.23284 21014.775 2011\n",
       "11 11   142.09597 15313.780 2011\n",
       "12 12   117.84480 11436.880 2011"
      ]
     },
     "metadata": {},
     "output_type": "display_data"
    }
   ],
   "source": [
    "year_2011 <- subset(bikedata, yr == 0)\n",
    "cnt_summary_2011 <- aggregate(cnt ~ mnth, data = year_2011, FUN = function(x) c(mean = mean(x), var = var(x)))\n",
    "cnt_summary_2011$mean <- cnt_summary_2011$cnt[,1]\n",
    "cnt_summary_2011$var <- cnt_summary_2011$cnt[,2]\n",
    "cnt_summary_2011$yr <- 2011\n",
    "cnt_summary_2011$yr <- factor(cnt_summary_2011$yr) \n",
    "cnt_summary_2011 = cnt_summary_2011[c(\"mnth\", \"mean\", \"var\", \"yr\")]\n",
    "cnt_summary_2011"
   ]
  },
  {
   "cell_type": "code",
   "execution_count": 14,
   "id": "eac68d9a",
   "metadata": {},
   "outputs": [
    {
     "data": {
      "text/html": [
       "<table class=\"dataframe\">\n",
       "<caption>A data.frame: 12 × 4</caption>\n",
       "<thead>\n",
       "\t<tr><th scope=col>mnth</th><th scope=col>mean</th><th scope=col>var</th><th scope=col>yr</th></tr>\n",
       "\t<tr><th scope=col>&lt;int&gt;</th><th scope=col>&lt;dbl&gt;</th><th scope=col>&lt;dbl&gt;</th><th scope=col>&lt;fct&gt;</th></tr>\n",
       "</thead>\n",
       "<tbody>\n",
       "\t<tr><td> 1</td><td>130.5587</td><td>14351.25</td><td>2012</td></tr>\n",
       "\t<tr><td> 2</td><td>149.0419</td><td>18032.86</td><td>2012</td></tr>\n",
       "\t<tr><td> 3</td><td>221.9044</td><td>38013.55</td><td>2012</td></tr>\n",
       "\t<tr><td> 4</td><td>242.6518</td><td>44495.40</td><td>2012</td></tr>\n",
       "\t<tr><td> 5</td><td>263.2594</td><td>45834.14</td><td>2012</td></tr>\n",
       "\t<tr><td> 6</td><td>281.7083</td><td>49466.60</td><td>2012</td></tr>\n",
       "\t<tr><td> 7</td><td>273.6653</td><td>45863.84</td><td>2012</td></tr>\n",
       "\t<tr><td> 8</td><td>288.3105</td><td>51927.01</td><td>2012</td></tr>\n",
       "\t<tr><td> 9</td><td>303.5736</td><td>62430.32</td><td>2012</td></tr>\n",
       "\t<tr><td>10</td><td>280.8489</td><td>56122.56</td><td>2012</td></tr>\n",
       "\t<tr><td>11</td><td>212.6240</td><td>32788.45</td><td>2012</td></tr>\n",
       "\t<tr><td>12</td><td>166.7291</td><td>27190.42</td><td>2012</td></tr>\n",
       "</tbody>\n",
       "</table>\n"
      ],
      "text/latex": [
       "A data.frame: 12 × 4\n",
       "\\begin{tabular}{llll}\n",
       " mnth & mean & var & yr\\\\\n",
       " <int> & <dbl> & <dbl> & <fct>\\\\\n",
       "\\hline\n",
       "\t  1 & 130.5587 & 14351.25 & 2012\\\\\n",
       "\t  2 & 149.0419 & 18032.86 & 2012\\\\\n",
       "\t  3 & 221.9044 & 38013.55 & 2012\\\\\n",
       "\t  4 & 242.6518 & 44495.40 & 2012\\\\\n",
       "\t  5 & 263.2594 & 45834.14 & 2012\\\\\n",
       "\t  6 & 281.7083 & 49466.60 & 2012\\\\\n",
       "\t  7 & 273.6653 & 45863.84 & 2012\\\\\n",
       "\t  8 & 288.3105 & 51927.01 & 2012\\\\\n",
       "\t  9 & 303.5736 & 62430.32 & 2012\\\\\n",
       "\t 10 & 280.8489 & 56122.56 & 2012\\\\\n",
       "\t 11 & 212.6240 & 32788.45 & 2012\\\\\n",
       "\t 12 & 166.7291 & 27190.42 & 2012\\\\\n",
       "\\end{tabular}\n"
      ],
      "text/markdown": [
       "\n",
       "A data.frame: 12 × 4\n",
       "\n",
       "| mnth &lt;int&gt; | mean &lt;dbl&gt; | var &lt;dbl&gt; | yr &lt;fct&gt; |\n",
       "|---|---|---|---|\n",
       "|  1 | 130.5587 | 14351.25 | 2012 |\n",
       "|  2 | 149.0419 | 18032.86 | 2012 |\n",
       "|  3 | 221.9044 | 38013.55 | 2012 |\n",
       "|  4 | 242.6518 | 44495.40 | 2012 |\n",
       "|  5 | 263.2594 | 45834.14 | 2012 |\n",
       "|  6 | 281.7083 | 49466.60 | 2012 |\n",
       "|  7 | 273.6653 | 45863.84 | 2012 |\n",
       "|  8 | 288.3105 | 51927.01 | 2012 |\n",
       "|  9 | 303.5736 | 62430.32 | 2012 |\n",
       "| 10 | 280.8489 | 56122.56 | 2012 |\n",
       "| 11 | 212.6240 | 32788.45 | 2012 |\n",
       "| 12 | 166.7291 | 27190.42 | 2012 |\n",
       "\n"
      ],
      "text/plain": [
       "   mnth mean     var      yr  \n",
       "1   1   130.5587 14351.25 2012\n",
       "2   2   149.0419 18032.86 2012\n",
       "3   3   221.9044 38013.55 2012\n",
       "4   4   242.6518 44495.40 2012\n",
       "5   5   263.2594 45834.14 2012\n",
       "6   6   281.7083 49466.60 2012\n",
       "7   7   273.6653 45863.84 2012\n",
       "8   8   288.3105 51927.01 2012\n",
       "9   9   303.5736 62430.32 2012\n",
       "10 10   280.8489 56122.56 2012\n",
       "11 11   212.6240 32788.45 2012\n",
       "12 12   166.7291 27190.42 2012"
      ]
     },
     "metadata": {},
     "output_type": "display_data"
    }
   ],
   "source": [
    "year_2012 <- subset(bikedata, yr == 1)\n",
    "cnt_summary_2012 <- aggregate(cnt ~ mnth, data = year_2012, FUN = function(x) c(mean = mean(x), var = var(x)))\n",
    "cnt_summary_2012$mean <- cnt_summary_2012$cnt[,1]\n",
    "cnt_summary_2012$var <- cnt_summary_2012$cnt[,2]\n",
    "cnt_summary_2012$yr <- 2012\n",
    "cnt_summary_2012$yr <- factor(cnt_summary_2012$yr) \n",
    "cnt_summary_2012 = cnt_summary_2012[c(\"mnth\", \"mean\", \"var\", \"yr\")]\n",
    "cnt_summary_2012                   "
   ]
  },
  {
   "cell_type": "code",
   "execution_count": 15,
   "id": "afb19f84",
   "metadata": {},
   "outputs": [
    {
     "data": {
      "text/html": [
       "<table class=\"dataframe\">\n",
       "<caption>A data.frame: 6 × 4</caption>\n",
       "<thead>\n",
       "\t<tr><th></th><th scope=col>mnth</th><th scope=col>mean</th><th scope=col>var</th><th scope=col>yr</th></tr>\n",
       "\t<tr><th></th><th scope=col>&lt;int&gt;</th><th scope=col>&lt;dbl&gt;</th><th scope=col>&lt;dbl&gt;</th><th scope=col>&lt;fct&gt;</th></tr>\n",
       "</thead>\n",
       "<tbody>\n",
       "\t<tr><th scope=row>1</th><td>1</td><td> 55.50727</td><td> 2363.968</td><td>2011</td></tr>\n",
       "\t<tr><th scope=row>2</th><td>2</td><td> 74.29122</td><td> 4048.268</td><td>2011</td></tr>\n",
       "\t<tr><th scope=row>3</th><td>3</td><td> 87.73288</td><td> 6221.974</td><td>2011</td></tr>\n",
       "\t<tr><th scope=row>4</th><td>4</td><td>131.94715</td><td>15056.421</td><td>2011</td></tr>\n",
       "\t<tr><th scope=row>5</th><td>5</td><td>182.55511</td><td>21431.031</td><td>2011</td></tr>\n",
       "\t<tr><th scope=row>6</th><td>6</td><td>199.32222</td><td>24050.936</td><td>2011</td></tr>\n",
       "</tbody>\n",
       "</table>\n"
      ],
      "text/latex": [
       "A data.frame: 6 × 4\n",
       "\\begin{tabular}{r|llll}\n",
       "  & mnth & mean & var & yr\\\\\n",
       "  & <int> & <dbl> & <dbl> & <fct>\\\\\n",
       "\\hline\n",
       "\t1 & 1 &  55.50727 &  2363.968 & 2011\\\\\n",
       "\t2 & 2 &  74.29122 &  4048.268 & 2011\\\\\n",
       "\t3 & 3 &  87.73288 &  6221.974 & 2011\\\\\n",
       "\t4 & 4 & 131.94715 & 15056.421 & 2011\\\\\n",
       "\t5 & 5 & 182.55511 & 21431.031 & 2011\\\\\n",
       "\t6 & 6 & 199.32222 & 24050.936 & 2011\\\\\n",
       "\\end{tabular}\n"
      ],
      "text/markdown": [
       "\n",
       "A data.frame: 6 × 4\n",
       "\n",
       "| <!--/--> | mnth &lt;int&gt; | mean &lt;dbl&gt; | var &lt;dbl&gt; | yr &lt;fct&gt; |\n",
       "|---|---|---|---|---|\n",
       "| 1 | 1 |  55.50727 |  2363.968 | 2011 |\n",
       "| 2 | 2 |  74.29122 |  4048.268 | 2011 |\n",
       "| 3 | 3 |  87.73288 |  6221.974 | 2011 |\n",
       "| 4 | 4 | 131.94715 | 15056.421 | 2011 |\n",
       "| 5 | 5 | 182.55511 | 21431.031 | 2011 |\n",
       "| 6 | 6 | 199.32222 | 24050.936 | 2011 |\n",
       "\n"
      ],
      "text/plain": [
       "  mnth mean      var       yr  \n",
       "1 1     55.50727  2363.968 2011\n",
       "2 2     74.29122  4048.268 2011\n",
       "3 3     87.73288  6221.974 2011\n",
       "4 4    131.94715 15056.421 2011\n",
       "5 5    182.55511 21431.031 2011\n",
       "6 6    199.32222 24050.936 2011"
      ]
     },
     "metadata": {},
     "output_type": "display_data"
    }
   ],
   "source": [
    "summary = rbind(cnt_summary_2011, cnt_summary_2012)\n",
    "head(summary)"
   ]
  },
  {
   "cell_type": "code",
   "execution_count": null,
   "id": "d0e6c1fd",
   "metadata": {},
   "outputs": [],
   "source": [
    "# draw the plot with reduced x-axis ticks\n",
    "ggplot(summary, aes(x = yr, y = var)) + \n",
    "  geom_line(size = 2, color = \"red\") +\n",
    "  labs(x = \"Year\", y = \"Variance of cnt\") +\n",
    "  theme(axis.title.x = element_text(size = 11), \n",
    "        axis.title.y = element_text(size = 11), \n",
    "        plot.title = element_text(size = 15, hjust = 0.5),\n",
    "        axis.text.y = element_text(size = 7))"
   ]
  },
  {
   "cell_type": "markdown",
   "id": "83668fb0",
   "metadata": {},
   "source": [
    "Variance is different during the duration of the data. We can see it increased in 2012 considerable as compared to 2011."
   ]
  },
  {
   "cell_type": "code",
   "execution_count": null,
   "id": "6cd936b4",
   "metadata": {},
   "outputs": [],
   "source": []
  },
  {
   "cell_type": "code",
   "execution_count": null,
   "id": "d11d3b4b",
   "metadata": {},
   "outputs": [],
   "source": []
  },
  {
   "cell_type": "code",
   "execution_count": null,
   "id": "61148bee",
   "metadata": {},
   "outputs": [],
   "source": [
    "mydata = bikedata %>% \n",
    "         select(cnt, season, mnth, hr, holiday, weekday, weathersit, temp)\n",
    "head(mydata)\n",
    "\n",
    "# dteday\n",
    "# yr"
   ]
  },
  {
   "cell_type": "markdown",
   "id": "1bae93d8",
   "metadata": {},
   "source": [
    "## Test-Train split"
   ]
  },
  {
   "cell_type": "code",
   "execution_count": null,
   "id": "cf027ab4",
   "metadata": {},
   "outputs": [],
   "source": [
    "set.seed(2023)\n",
    "sample.index <- sample(nrow(mydata),nrow(mydata)*0.80, replace = FALSE)\n",
    "bike.train <- mydata[sample.index,]\n",
    "bike.test <- mydata[-sample.index,]"
   ]
  },
  {
   "cell_type": "code",
   "execution_count": null,
   "id": "b1198095",
   "metadata": {},
   "outputs": [],
   "source": [
    "head(bike.test)"
   ]
  },
  {
   "cell_type": "code",
   "execution_count": null,
   "id": "d98b6f21",
   "metadata": {},
   "outputs": [],
   "source": [
    "head(bike.train)"
   ]
  },
  {
   "cell_type": "markdown",
   "id": "51429fef",
   "metadata": {},
   "source": [
    "## LM : Before converting variables to factors"
   ]
  },
  {
   "cell_type": "code",
   "execution_count": null,
   "id": "bbafa3cb",
   "metadata": {},
   "outputs": [],
   "source": [
    "modlm1 = lm(cnt~., data=bike.train)\n",
    "summary(modlm1)\n",
    "(yhat_modlm1 <- round(predict(modlm1, bike.test[,-1], type=\"response\")))\n",
    "cat(\"Min predicted value:\", min(yhat_modlm1))\n",
    "mse1 = mean((yhat_modlm1-bike.test[,1])^2) # calculating mse value\n",
    "cat(\"\\nMSE:\", mse1)"
   ]
  },
  {
   "cell_type": "markdown",
   "id": "432ec66d",
   "metadata": {},
   "source": [
    "The minimum predicted value is negative which seems appropriate for 'cnt' variable."
   ]
  },
  {
   "cell_type": "markdown",
   "id": "d8688543",
   "metadata": {},
   "source": [
    "Converting the variables to factors:"
   ]
  },
  {
   "cell_type": "code",
   "execution_count": null,
   "id": "edb0bbc5",
   "metadata": {},
   "outputs": [],
   "source": [
    "mydata$mnth = as.factor(mydata$mnth)\n",
    "mydata$hr = as.factor(mydata$hr)\n",
    "mydata$weathersit = as.factor(mydata$weathersit)\n",
    "mydata$season = as.factor(mydata$season)\n",
    "# mydata$weekday = factor(mydata$weekday)"
   ]
  },
  {
   "cell_type": "code",
   "execution_count": null,
   "id": "dc1e594c",
   "metadata": {},
   "outputs": [],
   "source": []
  },
  {
   "cell_type": "code",
   "execution_count": null,
   "id": "5ba8be07",
   "metadata": {},
   "outputs": [],
   "source": [
    "head(mydata)"
   ]
  },
  {
   "cell_type": "markdown",
   "id": "453f9ca1",
   "metadata": {},
   "source": [
    "##  LM : After converting variables to factors (lower MSE and BIC score)"
   ]
  },
  {
   "cell_type": "code",
   "execution_count": null,
   "id": "f394dc2f",
   "metadata": {},
   "outputs": [],
   "source": [
    "modlm2 = lm(cnt~., data=bike.train)\n",
    "summary(modlm2)\n",
    "(yhat_modlm2 <- round(predict(modlm2, bike.test[,-1], type=\"response\")))\n",
    "cat(\"Min predicted value:\", min(yhat_modlm2))\n",
    "mse2 = round(mean((yhat_modlm2-bike.test[,1])^2),2)\n",
    "cat(\"\\nMSE:\", mse2)"
   ]
  },
  {
   "cell_type": "markdown",
   "id": "e9ab7c5f",
   "metadata": {},
   "source": [
    "The minimum predicted value is negative which seems inappropriate for 'cnt' variable as the number of bike users cannot be negative."
   ]
  },
  {
   "cell_type": "markdown",
   "id": "36069cf1",
   "metadata": {},
   "source": [
    "## Best subset selection for model with factors"
   ]
  },
  {
   "cell_type": "code",
   "execution_count": null,
   "id": "54b043ec",
   "metadata": {},
   "outputs": [],
   "source": [
    "aic_back <- step(modlm2, direction=\"both\", trace= FALSE) # by default direction is \"backward\", trace = TRUE\n",
    "summary(aic_back)\n",
    "plot(aic_back)"
   ]
  },
  {
   "cell_type": "code",
   "execution_count": null,
   "id": "5b38c257",
   "metadata": {},
   "outputs": [],
   "source": [
    "library(lmtest)\n",
    "reset(modlm2)"
   ]
  },
  {
   "cell_type": "markdown",
   "id": "888ab929",
   "metadata": {},
   "source": [
    "## GLM - Poisson (factors)"
   ]
  },
  {
   "cell_type": "code",
   "execution_count": null,
   "id": "cc321921",
   "metadata": {},
   "outputs": [],
   "source": [
    "modglm1 = glm(cnt~., data=bike.train, family=poisson)\n",
    "summary(modglm1)\n",
    "yhat_modglm1 <- round(predict(modglm1, bike.test[,-1], type=\"response\"))\n",
    "cat(\"Min predicted value:\", min(yhat_modglm1))\n",
    "mse3 = round(mean((yhat_modglm1-bike.test[,1])^2),2)\n",
    "cat(\"\\nMSE:\", mse3)\n",
    "plot(modglm1)"
   ]
  },
  {
   "cell_type": "markdown",
   "id": "ca3cbb35",
   "metadata": {},
   "source": [
    "The minimum predicted value is positive which seems appropriate for 'cnt' variable."
   ]
  },
  {
   "cell_type": "code",
   "execution_count": null,
   "id": "3470bab6",
   "metadata": {},
   "outputs": [],
   "source": [
    "library(lmtest)\n",
    "reset(modglm1)"
   ]
  },
  {
   "cell_type": "code",
   "execution_count": null,
   "id": "02634112",
   "metadata": {},
   "outputs": [],
   "source": [
    "df <- data.frame(Model = c(\"LM (no factors)\", \"LM (with factors)\", \"GLM (Poisson)\"),\n",
    "                 BIC = c(BIC(modlm1), BIC(modlm2), BIC(modglm1)),\n",
    "                 MSE = c(get_mse(modlm1), get_mse(modlm2), get_mse(modglm1)))\n",
    "df"
   ]
  },
  {
   "cell_type": "markdown",
   "id": "0e0e9d29",
   "metadata": {},
   "source": []
  },
  {
   "cell_type": "code",
   "execution_count": null,
   "id": "67f619b5",
   "metadata": {},
   "outputs": [],
   "source": [
    "summary"
   ]
  },
  {
   "cell_type": "code",
   "execution_count": 6,
   "id": "906591f0",
   "metadata": {},
   "outputs": [
    {
     "ename": "ERROR",
     "evalue": "\u001b[1m\u001b[33mError\u001b[39m in `ggplot()`:\u001b[22m\n\u001b[1m\u001b[22m\u001b[33m!\u001b[39m `data` cannot be a function.\n\u001b[36mℹ\u001b[39m Have you misspelled the `data` argument in `ggplot()`\n",
     "output_type": "error",
     "traceback": [
      "\u001b[1m\u001b[33mError\u001b[39m in `ggplot()`:\u001b[22m\n\u001b[1m\u001b[22m\u001b[33m!\u001b[39m `data` cannot be a function.\n\u001b[36mℹ\u001b[39m Have you misspelled the `data` argument in `ggplot()`\nTraceback:\n",
      "1. ggplot(summary, aes(x = mnth, y = var))",
      "2. ggplot.function(summary, aes(x = mnth, y = var))",
      "3. cli::cli_abort(c(\"{.arg data} cannot be a function.\", i = \"Have you misspelled the {.arg data} argument in {.fn ggplot}\"))",
      "4. rlang::abort(message, ..., call = call, use_cli_format = TRUE, \n .     .frame = .frame)",
      "5. signal_abort(cnd, .file)"
     ]
    }
   ],
   "source": [
    "options(repr.plot.width = 12, repr.plot.height = 8)\n",
    "\n",
    "ggplot(summary, aes(x = mnth, y = var)) + \n",
    "  geom_line(size = 2, color = \"red\") + facet_wrap(~yr)\n",
    "  labs(x = \"Month\", y = \"Variance of cnt\") +\n",
    "  theme(axis.title.x = element_text(size = 11), \n",
    "        axis.title.y = element_text(size = 11), \n",
    "        plot.title = element_text(size = 15, hjust = 0.5),\n",
    "        axis.text.y = element_text(size = 7)) \n",
    "# scale_x_discrete(labels = function(x) format(as.Date(paste0(x, \"-01\")), \"%b\"))"
   ]
  },
  {
   "cell_type": "markdown",
   "id": "9ddfe608",
   "metadata": {},
   "source": [
    "## "
   ]
  }
 ],
 "metadata": {
  "kernelspec": {
   "display_name": "R",
   "language": "R",
   "name": "ir"
  },
  "language_info": {
   "codemirror_mode": "r",
   "file_extension": ".r",
   "mimetype": "text/x-r-source",
   "name": "R",
   "pygments_lexer": "r",
   "version": "4.2.2"
  }
 },
 "nbformat": 4,
 "nbformat_minor": 5
}
